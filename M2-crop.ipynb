{
 "cells": [
  {
   "cell_type": "markdown",
   "id": "1a651733",
   "metadata": {},
   "source": [
    "# Module 2: Exploration data analysis of visualization and training a model by given attributes"
   ]
  },
  {
   "cell_type": "code",
   "execution_count": null,
   "id": "1a58573f",
   "metadata": {},
   "outputs": [],
   "source": [
    "#import library packages\n",
    "import pandas as p\n",
    "import matplotlib.pyplot as plt\n",
    "import seaborn as s\n",
    "import numpy as n"
   ]
  },
  {
   "cell_type": "code",
   "execution_count": null,
   "id": "cb353e07",
   "metadata": {},
   "outputs": [],
   "source": [
    "import warnings\n",
    "warnings.filterwarnings('ignore')"
   ]
  },
  {
   "cell_type": "code",
   "execution_count": null,
   "id": "4d01abe4",
   "metadata": {},
   "outputs": [],
   "source": [
    "data = p.read_csv(\"crop.csv\")"
   ]
  },
  {
   "cell_type": "code",
   "execution_count": null,
   "id": "40b89463",
   "metadata": {},
   "outputs": [],
   "source": [
    "df = data.dropna()"
   ]
  },
  {
   "cell_type": "code",
   "execution_count": null,
   "id": "416c98db",
   "metadata": {},
   "outputs": [],
   "source": [
    "df.shape"
   ]
  },
  {
   "cell_type": "code",
   "execution_count": null,
   "id": "ba19b2bf",
   "metadata": {},
   "outputs": [],
   "source": [
    "df.columns"
   ]
  },
  {
   "cell_type": "code",
   "execution_count": null,
   "id": "a4d66cb5",
   "metadata": {},
   "outputs": [],
   "source": [
    "p.crosstab(df.rainfall,df.humidity)"
   ]
  },
  {
   "cell_type": "code",
   "execution_count": null,
   "id": "8f31eabd",
   "metadata": {},
   "outputs": [],
   "source": [
    "df.isnull().sum()"
   ]
  },
  {
   "cell_type": "code",
   "execution_count": null,
   "id": "130b4f2d",
   "metadata": {},
   "outputs": [],
   "source": [
    "df.columns"
   ]
  },
  {
   "cell_type": "code",
   "execution_count": null,
   "id": "45a82d6e",
   "metadata": {},
   "outputs": [],
   "source": [
    "df['humidity'].hist(figsize=(7,6), color='violet', alpha=0.7)\n",
    "plt.xlabel('humidity')\n",
    "plt.ylabel('rainfall')\n",
    "plt.title('humidity & rainfall')"
   ]
  },
  {
   "cell_type": "code",
   "execution_count": null,
   "id": "249bee56",
   "metadata": {},
   "outputs": [],
   "source": [
    "df['nitrogen'].hist(figsize=(7,6), color='b', alpha=0.7)\n",
    "plt.xlabel('nitrogen')\n",
    "plt.ylabel('phosphorus')\n",
    "plt.title('nitrogen & phosphorus')"
   ]
  },
  {
   "cell_type": "code",
   "execution_count": null,
   "id": "1d47c01a",
   "metadata": {},
   "outputs": [],
   "source": [
    "#Propagation by variable\n",
    "def PropByVar(df, variable):\n",
    "    dataframe_pie = df[variable].value_counts()\n",
    "    ax = dataframe_pie.plot.pie(figsize=(8,8), autopct='%1.2f%%', fontsize = 10)\n",
    "    ax.set_title(variable + ' \\n', fontsize = 15)\n",
    "    return n.round(dataframe_pie/df.shape[0]*100,2)\n",
    "PropByVar(df, 'label')"
   ]
  },
  {
   "cell_type": "code",
   "execution_count": null,
   "id": "11c945b7",
   "metadata": {},
   "outputs": [],
   "source": [
    "#Propagation by variable\n",
    "def PropByVar(df, variable):\n",
    "    dataframe_pie = df[variable].value_counts()\n",
    "    ax = dataframe_pie.plot.pie(figsize=(8,8), autopct='%1.2f%%', fontsize = 12)\n",
    "    ax.set_title(variable + ' \\n', fontsize = 15)\n",
    "    return n.round(dataframe_pie/df.shape[0]*100,2)\n",
    "\n",
    "PropByVar(df, 'nitrogen')"
   ]
  },
  {
   "cell_type": "code",
   "execution_count": null,
   "id": "c1b807b6",
   "metadata": {},
   "outputs": [],
   "source": [
    "# Heatmap plot diagram\n",
    "fig, ax = plt.subplots(figsize=(15,7))\n",
    "s.heatmap(df.corr(), ax=ax, annot=True)"
   ]
  },
  {
   "cell_type": "code",
   "execution_count": null,
   "id": "893f46c1",
   "metadata": {},
   "outputs": [],
   "source": [
    "plt.boxplot(df['phosphorus'])\n",
    "plt.show()"
   ]
  },
  {
   "cell_type": "code",
   "execution_count": null,
   "id": "90f993b8",
   "metadata": {},
   "outputs": [],
   "source": [
    "import seaborn as s\n",
    "s.boxplot(df['nitrogen'], color='m')"
   ]
  },
  {
   "cell_type": "code",
   "execution_count": null,
   "id": "40804717",
   "metadata": {},
   "outputs": [],
   "source": [
    "from sklearn.preprocessing import LabelEncoder\n",
    "var_mod =['label']\n",
    "le = LabelEncoder()\n",
    "for i in var_mod:\n",
    "    df[i] = le.fit_transform(df[i]).astype(int)"
   ]
  },
  {
   "cell_type": "code",
   "execution_count": null,
   "id": "2b69e423",
   "metadata": {},
   "outputs": [],
   "source": [
    "df.columns"
   ]
  },
  {
   "cell_type": "code",
   "execution_count": null,
   "id": "e421a20f",
   "metadata": {},
   "outputs": [],
   "source": [
    "fig, ax = plt.subplots(figsize=(16,8))\n",
    "ax.scatter(df['humidity'],df['rainfall'])\n",
    "ax.set_xlabel('humidity')\n",
    "ax.set_ylabel('rainfall')\n",
    "ax.set_title('rainfall & humidity')\n",
    "plt.show()"
   ]
  },
  {
   "cell_type": "code",
   "execution_count": null,
   "id": "ac8a1ced",
   "metadata": {},
   "outputs": [],
   "source": [
    "df.columns"
   ]
  },
  {
   "cell_type": "code",
   "execution_count": null,
   "id": "76dc3f84",
   "metadata": {},
   "outputs": [],
   "source": [
    "plt.plot(df[\"label\"], df[\"ph\"], color='g')\n",
    "plt.xlabel('label')\n",
    "plt.ylabel('ph')\n",
    "plt.title('ph value of crops')\n",
    "plt.show()"
   ]
  },
  {
   "cell_type": "code",
   "execution_count": null,
   "id": "180aca24",
   "metadata": {},
   "outputs": [],
   "source": [
    "from sklearn.preprocessing import LabelEncoder\n",
    "var_mod = ['label']\n",
    "le = LabelEncoder()\n",
    "for i in var_mod:\n",
    "    df[i] = le.fit_transform(df[i]).astype(int)"
   ]
  },
  {
   "cell_type": "raw",
   "id": "f0054dba",
   "metadata": {},
   "source": [
    "Splitting Train / Test"
   ]
  },
  {
   "cell_type": "code",
   "execution_count": null,
   "id": "88a8e1cf",
   "metadata": {},
   "outputs": [],
   "source": [
    "#preprocessing, split test and dataset, split response variable\n",
    "X = df.drop(labels='label', axis=1)\n",
    "#Response variable\n",
    "y = df.loc[:,'label'] "
   ]
  },
  {
   "cell_type": "code",
   "execution_count": null,
   "id": "3dfd689a",
   "metadata": {},
   "outputs": [],
   "source": [
    "#We'll use a test size of 30%. We also stratify the split on the response variable, which is very important to do because there are so few fraudulent transactions.\n",
    "from sklearn.model_selection import train_test_split\n",
    "X_train, X_test, y_train, y_test = train_test_split(X, y, test_size=0.30, random_state=1, stratify=y)\n",
    "print(\"Number of training dataset: \", len(X_train))\n",
    "print(\"Number of test dataset: \", len(X_test))\n",
    "print(\"Total number of dataset: \", len(X_train)+len(X_test))"
   ]
  }
 ],
 "metadata": {
  "kernelspec": {
   "display_name": "Python 3 (ipykernel)",
   "language": "python",
   "name": "python3"
  },
  "language_info": {
   "codemirror_mode": {
    "name": "ipython",
    "version": 3
   },
   "file_extension": ".py",
   "mimetype": "text/x-python",
   "name": "python",
   "nbconvert_exporter": "python",
   "pygments_lexer": "ipython3",
   "version": "3.7.13"
  }
 },
 "nbformat": 4,
 "nbformat_minor": 5
}
